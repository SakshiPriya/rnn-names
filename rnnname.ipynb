{
  "nbformat": 4,
  "nbformat_minor": 0,
  "metadata": {
    "colab": {
      "name": "rnnname.ipynb",
      "version": "0.3.2",
      "provenance": [],
      "collapsed_sections": [],
      "include_colab_link": true
    },
    "kernelspec": {
      "name": "python3",
      "display_name": "Python 3"
    },
    "accelerator": "GPU"
  },
  "cells": [
    {
      "cell_type": "markdown",
      "metadata": {
        "id": "view-in-github",
        "colab_type": "text"
      },
      "source": [
        "[View in Colaboratory](https://colab.research.google.com/github/SakshiPriya/rnn-names/blob/master/rnnname.ipynb)"
      ]
    },
    {
      "metadata": {
        "id": "T6nqXV7Du2nQ",
        "colab_type": "code",
        "colab": {}
      },
      "cell_type": "code",
      "source": [
        "import unicodedata\n",
        "import glob\n",
        "import io\n",
        "import re\n",
        "import string\n",
        "import torch\n",
        "import torchvision\n",
        "import torch.nn as nn\n",
        "import torch.nn.functional as f\n",
        "import numpy as np"
      ],
      "execution_count": 0,
      "outputs": []
    },
    {
      "metadata": {
        "id": "h_4uzJkgLu17",
        "colab_type": "code",
        "colab": {
          "base_uri": "https://localhost:8080/",
          "height": 356
        },
        "outputId": "b16e2243-82de-43d3-cfbc-86463b4b690d"
      },
      "cell_type": "code",
      "source": [
        "!pip install torch\n",
        "!pip install torchvision"
      ],
      "execution_count": 0,
      "outputs": [
        {
          "output_type": "stream",
          "text": [
            "Collecting torch\n",
            "\u001b[?25l  Downloading https://files.pythonhosted.org/packages/69/43/380514bd9663f1bf708abeb359b8b48d3fabb1c8e95bb3427a980a064c57/torch-0.4.0-cp36-cp36m-manylinux1_x86_64.whl (484.0MB)\n",
            "\u001b[K    100% |████████████████████████████████| 484.0MB 22kB/s \n",
            "tcmalloc: large alloc 1073750016 bytes == 0x5c7b6000 @  0x7f66a1b431c4 0x46d6a4 0x5fcbcc 0x4c494d 0x54f3c4 0x553aaf 0x54e4c8 0x54f4f6 0x553aaf 0x54efc1 0x54f24d 0x553aaf 0x54efc1 0x54f24d 0x553aaf 0x54efc1 0x54f24d 0x551ee0 0x54e4c8 0x54f4f6 0x553aaf 0x54efc1 0x54f24d 0x551ee0 0x54efc1 0x54f24d 0x551ee0 0x54e4c8 0x54f4f6 0x553aaf 0x54e4c8\n",
            "\u001b[?25hInstalling collected packages: torch\n",
            "Successfully installed torch-0.4.0\n",
            "Collecting torchvision\n",
            "  Using cached https://files.pythonhosted.org/packages/ca/0d/f00b2885711e08bd71242ebe7b96561e6f6d01fdb4b9dcf4d37e2e13c5e1/torchvision-0.2.1-py2.py3-none-any.whl\n",
            "Requirement already satisfied: torch in /usr/local/lib/python3.6/dist-packages (from torchvision) (0.4.0)\n",
            "Collecting pillow>=4.1.1 (from torchvision)\n",
            "\u001b[?25l  Downloading https://files.pythonhosted.org/packages/d1/24/f53ff6b61b3d728b90934bddb4f03f8ab584a7f49299bf3bde56e2952612/Pillow-5.2.0-cp36-cp36m-manylinux1_x86_64.whl (2.0MB)\n",
            "\u001b[K    100% |████████████████████████████████| 2.0MB 7.1MB/s \n",
            "\u001b[?25hRequirement already satisfied: six in /usr/local/lib/python3.6/dist-packages (from torchvision) (1.11.0)\n",
            "Requirement already satisfied: numpy in /usr/local/lib/python3.6/dist-packages (from torchvision) (1.14.5)\n",
            "Installing collected packages: pillow, torchvision\n",
            "  Found existing installation: Pillow 4.0.0\n",
            "    Uninstalling Pillow-4.0.0:\n",
            "      Successfully uninstalled Pillow-4.0.0\n",
            "Successfully installed pillow-5.2.0 torchvision-0.2.1\n"
          ],
          "name": "stdout"
        }
      ]
    },
    {
      "metadata": {
        "id": "jd98XsCY7ymz",
        "colab_type": "code",
        "colab": {}
      },
      "cell_type": "code",
      "source": [
        " !apt-get install -y -qq software-properties-common python-software-properties module-init-tools\n",
        " !add-apt-repository -y ppa:alessandro-strada/ppa 2>&1 > /dev/null\n",
        " !apt-get update -qq 2>&1 > /dev/null\n",
        " !apt-get -y install -qq google-drive-ocamlfuse fuse\n",
        " from google.colab import auth\n",
        " auth.authenticate_user()\n",
        " from oauth2client.client import GoogleCredentials\n",
        " creds = GoogleCredentials.get_application_default()\n",
        " import getpass\n",
        " !google-drive-ocamlfuse -headless -id={creds.client_id} -secret={creds.client_secret} < /dev/null 2>&1 | grep URL\n",
        " vcode = getpass.getpass()\n",
        " !echo {vcode} | google-drive-ocamlfuse -headless -id={creds.client_id} -secret={creds.client_secret}\n"
      ],
      "execution_count": 0,
      "outputs": []
    },
    {
      "metadata": {
        "id": "HJ4uSJsN9zsn",
        "colab_type": "code",
        "colab": {}
      },
      "cell_type": "code",
      "source": [
        "!mkdir -p drive\n",
        "!google-drive-ocamlfuse drive"
      ],
      "execution_count": 0,
      "outputs": []
    },
    {
      "metadata": {
        "id": "cZEYXyCu-A8A",
        "colab_type": "code",
        "colab": {}
      },
      "cell_type": "code",
      "source": [
        "lichar=string.ascii_letters+\" .,;'\"\n",
        "vocabsize=len(lichar)\n",
        "chartoint={b:a for a,b in enumerate(lichar)}\n",
        "filenames=glob.glob('drive/app/data/names/*.txt')\n",
        "category=[re.search('[ \\w-]+?(?=\\.)',file).group() for file in filenames]\n",
        "categorylen=len(category)\n",
        "\n",
        "def wordcorrection(w):\n",
        "  k= [ i for i in w if str(i) in lichar]\n",
        "  return ''.join(k)\n",
        "      \n",
        "def readfiles(filename):\n",
        "    f=io.open(filename,encoding='utf-8')\n",
        "    word=f.read().strip().split(\"\\n\")\n",
        "    \n",
        "    # wordli= [unicodedata.normalize('NFKD', w).encode('ascii','ignore') for w in word]\n",
        "    # print(wordli)\n",
        "    return [wordcorrection(wd) for wd in word]\n",
        "  \n",
        "all_names={}\n",
        "\n",
        "for file in filenames:\n",
        "  all_names[re.search('[ \\w-]+?(?=\\.)',file).group()]=readfiles(file)\n",
        "  \n"
      ],
      "execution_count": 0,
      "outputs": []
    },
    {
      "metadata": {
        "id": "qeYjhg5yCH2U",
        "colab_type": "code",
        "colab": {}
      },
      "cell_type": "code",
      "source": [
        "def onehot(letter):\n",
        "   print(letter)\n",
        "   a=torch.zeros(1,vocabsize)\n",
        "   a[0][chartoint[letter]]=1\n",
        "   return a\n",
        "def onehotword(word):\n",
        "  a=torch.zeros(len(word),1,vocabsize)\n",
        "  for i in range(len(word)):\n",
        "    a[i]=onehot(word[i])\n",
        "  return a\n",
        "def tcategory(output):\n",
        "    val,pos=output.topk(1)\n",
        "    return category[pos],val\n",
        "\n",
        "def randomcategory():\n",
        "  k=np.random.randint(0,categorylen)\n",
        "  \n",
        "  catname=category[k]\n",
        "  #print(all_names[catname][np.random.randint(0,len(all_names[catname]))])\n",
        "  name=all_names[catname][np.random.randint(0,len(all_names[catname]))]\n",
        "  cattensor = torch.tensor([category.index(catname)], dtype=torch.long)\n",
        "  nametensor=onehotword(name)\n",
        "  return catname,name,cattensor,nametensor\n",
        "\n",
        "\n",
        "  "
      ],
      "execution_count": 0,
      "outputs": []
    },
    {
      "metadata": {
        "id": "s74CHzS8-5xU",
        "colab_type": "code",
        "colab": {}
      },
      "cell_type": "code",
      "source": [
        "class basicrnn(nn.Module):\n",
        "  def __init__(self,input_size,hidden_size,output_size):\n",
        "      super(basicrnn,self).__init__()\n",
        "      self.hidden_size=hidden_size\n",
        "      self.input_size=input_size\n",
        "      self.output_size=output_size\n",
        "      self.i2h=nn.Linear(self.input_size+self.hidden_size,self.hidden_size)\n",
        "      self.i2o=nn.Linear(self.input_size+self.hidden_size,self.output_size)\n",
        "      self.softmax=nn.LogSoftmax(dim=1)\n",
        "  def forward(self,inputs,hidden):\n",
        "    combo=torch.cat((inputs,hidden),dim=1)\n",
        "    \n",
        "   \n",
        "    y=self.softmax(self.i2o(combo))\n",
        "    hidden=self.i2h(combo)\n",
        "   \n",
        "    return y,hidden\n",
        "      \n",
        "neuron=128\n",
        "\n",
        "rnn=basicrnn(vocabsize,neuron,categorylen)"
      ],
      "execution_count": 0,
      "outputs": []
    },
    {
      "metadata": {
        "id": "Trc6oDlPkLQE",
        "colab_type": "code",
        "colab": {}
      },
      "cell_type": "code",
      "source": [
        "lr=0.005\n",
        "\n",
        "criterion=nn.NLLLoss()\n",
        "def train(cattensor,nametensor):\n",
        "   \n",
        "   hidden=torch.zeros(1,neuron)\n",
        "   rnn.zero_grad()\n",
        "   \n",
        "   for i in range(nametensor.size()[0]):\n",
        "        output,hidden=rnn(nametensor[i],hidden)\n",
        "   loss=criterion(output,cattensor)\n",
        "   loss.backward()\n",
        "   for param in rnn.parameters():\n",
        "       param.data+=(-lr*param.grad.data)  \n",
        "   return output,loss"
      ],
      "execution_count": 0,
      "outputs": []
    },
    {
      "metadata": {
        "id": "ysIO-OnriDop",
        "colab_type": "code",
        "colab": {}
      },
      "cell_type": "code",
      "source": [
        "noofex=100000\n",
        "currentloss=0\n",
        "losslist=[]\n",
        "for i in range(noofex):\n",
        "  cty,name,cattensor,nametensor=randomcategory()\n",
        "  outputs,loss=train(cattensor,nametensor)\n",
        "  currentloss+=loss\n",
        "  if i%1000:\n",
        "    print('loss:',currentloss/i)\n",
        "    print('name:',name)\n",
        "    print('true category:',cty)\n",
        "    print('predicted category:',tcategory(outputs))\n",
        "    print('--------------------------------------------------------------------------------------------------')\n",
        "    losslist.append(currentloss/i)"
      ],
      "execution_count": 0,
      "outputs": []
    },
    {
      "metadata": {
        "id": "la-PmKMPcwHB",
        "colab_type": "code",
        "colab": {
          "base_uri": "https://localhost:8080/",
          "height": 347
        },
        "outputId": "d0120b90-5bda-41b8-edee-6882101cd772"
      },
      "cell_type": "code",
      "source": [
        "import matplotlib.pyplot as plt\n",
        "plt.figure()\n",
        "plt.plot(losslist)\n",
        "plt.show()\n"
      ],
      "execution_count": 64,
      "outputs": [
        {
          "output_type": "display_data",
          "data": {
            "image/png": "[encoded data removed]",
            "text/plain": [
              "<matplotlib.figure.Figure at 0x7fb06b825cf8>"
            ]
          },
          "metadata": {
            "tags": []
          }
        }
      ]
    }
  ]
}